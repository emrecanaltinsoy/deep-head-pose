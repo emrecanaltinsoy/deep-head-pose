{
 "cells": [
  {
   "cell_type": "code",
   "execution_count": 1,
   "metadata": {},
   "outputs": [
    {
     "name": "stderr",
     "output_type": "stream",
     "text": [
      "/Users/emrecan/miniconda3/envs/torch/lib/python3.9/site-packages/tqdm/auto.py:22: TqdmWarning: IProgress not found. Please update jupyter and ipywidgets. See https://ipywidgets.readthedocs.io/en/stable/user_install.html\n",
      "  from .autonotebook import tqdm as notebook_tqdm\n"
     ]
    }
   ],
   "source": [
    "import sys\n",
    "sys.path.append(\"code\")\n",
    "\n",
    "import scipy.io as sio\n",
    "from pathlib import Path\n",
    "import numpy as np\n",
    "import pandas as pd\n",
    "import cv2\n",
    "import matplotlib.pyplot as plt\n",
    "from tqdm import tqdm\n",
    "\n",
    "from utils import get_ypr_from_mat, get_pt2d_from_mat"
   ]
  },
  {
   "cell_type": "code",
   "execution_count": 3,
   "metadata": {},
   "outputs": [
    {
     "name": "stdout",
     "output_type": "stream",
     "text": [
      "Processing dataset: AFW\n"
     ]
    },
    {
     "name": "stderr",
     "output_type": "stream",
     "text": [
      "100%|██████████| 5207/5207 [00:15<00:00, 326.17it/s]\n"
     ]
    },
    {
     "name": "stdout",
     "output_type": "stream",
     "text": [
      "Processing dataset: AFW_Flip\n"
     ]
    },
    {
     "name": "stderr",
     "output_type": "stream",
     "text": [
      "100%|██████████| 5207/5207 [00:15<00:00, 333.84it/s]\n"
     ]
    },
    {
     "name": "stdout",
     "output_type": "stream",
     "text": [
      "Processing dataset: HELEN\n"
     ]
    },
    {
     "name": "stderr",
     "output_type": "stream",
     "text": [
      "100%|██████████| 37676/37676 [02:03<00:00, 306.05it/s]\n"
     ]
    },
    {
     "name": "stdout",
     "output_type": "stream",
     "text": [
      "Processing dataset: HELEN_Flip\n"
     ]
    },
    {
     "name": "stderr",
     "output_type": "stream",
     "text": [
      "100%|██████████| 37676/37676 [02:04<00:00, 303.27it/s]\n"
     ]
    },
    {
     "name": "stdout",
     "output_type": "stream",
     "text": [
      "Processing dataset: IBUG\n"
     ]
    },
    {
     "name": "stderr",
     "output_type": "stream",
     "text": [
      "100%|██████████| 1786/1786 [00:05<00:00, 336.33it/s]\n"
     ]
    },
    {
     "name": "stdout",
     "output_type": "stream",
     "text": [
      "Processing dataset: IBUG_Flip\n"
     ]
    },
    {
     "name": "stderr",
     "output_type": "stream",
     "text": [
      "100%|██████████| 1786/1786 [00:05<00:00, 338.94it/s]\n"
     ]
    },
    {
     "name": "stdout",
     "output_type": "stream",
     "text": [
      "Processing dataset: LFPW\n"
     ]
    },
    {
     "name": "stderr",
     "output_type": "stream",
     "text": [
      "100%|██████████| 16556/16556 [00:52<00:00, 314.28it/s]\n"
     ]
    },
    {
     "name": "stdout",
     "output_type": "stream",
     "text": [
      "Processing dataset: LFPW_Flip\n"
     ]
    },
    {
     "name": "stderr",
     "output_type": "stream",
     "text": [
      "100%|██████████| 16556/16556 [00:51<00:00, 324.16it/s]\n"
     ]
    }
   ],
   "source": [
    "df_records = []\n",
    "\n",
    "datasets = [\"AFW\", \"AFW_Flip\", \"HELEN\", \"HELEN_Flip\", \"IBUG\", \"IBUG_Flip\", \"LFPW\", \"LFPW_Flip\"]\n",
    "for dataset in datasets:\n",
    "    mat_files = list(Path(f\"data/300W_LP/{dataset}\").glob(\"*.mat\"))\n",
    "\n",
    "    save_cropped_img_path = Path(\"data/cropped_images\")\n",
    "    save_cropped_img_path.mkdir(exist_ok=True)\n",
    "\n",
    "    print(f\"Processing dataset: {dataset}\")\n",
    "    for mat_file_idx, mat_file in enumerate(tqdm(mat_files)):\n",
    "        pose = get_ypr_from_mat(mat_file)\n",
    "        pitch = pose[0] * 180 / np.pi\n",
    "        yaw = pose[1] * 180 / np.pi\n",
    "        roll = pose[2] * 180 / np.pi\n",
    "\n",
    "        pt2d = get_pt2d_from_mat(mat_file)\n",
    "\n",
    "        x_min = min(pt2d[0,:])\n",
    "        y_min = min(pt2d[1,:])\n",
    "        x_max = max(pt2d[0,:])\n",
    "        y_max = max(pt2d[1,:])\n",
    "\n",
    "        k = 0.20\n",
    "        x_min -= 2 * k * abs(x_max - x_min)\n",
    "        y_min -= 2 * k * abs(y_max - y_min)\n",
    "        x_max += 2 * k * abs(x_max - x_min)\n",
    "        y_max += 0.6 * k * abs(y_max - y_min)\n",
    "\n",
    "        x_min = max(0, x_min)\n",
    "        y_min = max(0, y_min)\n",
    "\n",
    "        pose_img = cv2.imread(str(mat_file).replace(\"mat\", \"jpg\"))\n",
    "        cropped_pose_img = pose_img[int(y_min):int(y_max), int(x_min):int(x_max)]\n",
    "\n",
    "        img_name = f\"{dataset}_{mat_file_idx}.jpg\"\n",
    "        cv2.imwrite(str(save_cropped_img_path.joinpath(img_name)), cropped_pose_img)\n",
    "\n",
    "        df_records.append(\n",
    "            {\n",
    "                \"name\": img_name,\n",
    "                \"yaw\": yaw,\n",
    "                \"pitch\": pitch,\n",
    "                \"roll\": roll,\n",
    "                \"all_landmarks\": pt2d.T.tolist(),\n",
    "                \"mouth_landmarks\": pt2d.T.tolist()[48:],\n",
    "            }\n",
    "        )\n",
    "\n",
    "        # break"
   ]
  },
  {
   "cell_type": "code",
   "execution_count": 4,
   "metadata": {},
   "outputs": [],
   "source": [
    "df = pd.DataFrame(df_records)"
   ]
  },
  {
   "cell_type": "code",
   "execution_count": 5,
   "metadata": {},
   "outputs": [
    {
     "data": {
      "text/html": [
       "<div>\n",
       "<style scoped>\n",
       "    .dataframe tbody tr th:only-of-type {\n",
       "        vertical-align: middle;\n",
       "    }\n",
       "\n",
       "    .dataframe tbody tr th {\n",
       "        vertical-align: top;\n",
       "    }\n",
       "\n",
       "    .dataframe thead th {\n",
       "        text-align: right;\n",
       "    }\n",
       "</style>\n",
       "<table border=\"1\" class=\"dataframe\">\n",
       "  <thead>\n",
       "    <tr style=\"text-align: right;\">\n",
       "      <th></th>\n",
       "      <th>name</th>\n",
       "      <th>yaw</th>\n",
       "      <th>pitch</th>\n",
       "      <th>roll</th>\n",
       "      <th>all_landmarks</th>\n",
       "      <th>mouth_landmarks</th>\n",
       "    </tr>\n",
       "  </thead>\n",
       "  <tbody>\n",
       "    <tr>\n",
       "      <th>0</th>\n",
       "      <td>AFW_0.jpg</td>\n",
       "      <td>52.627840</td>\n",
       "      <td>-1.899845</td>\n",
       "      <td>7.454445</td>\n",
       "      <td>[[153.56659331983806, 244.43923572874507], [14...</td>\n",
       "      <td>[[166.29675263157893, 326.1395450404858], [172...</td>\n",
       "    </tr>\n",
       "    <tr>\n",
       "      <th>1</th>\n",
       "      <td>AFW_1.jpg</td>\n",
       "      <td>-17.416299</td>\n",
       "      <td>-16.421279</td>\n",
       "      <td>-12.825909</td>\n",
       "      <td>[[136.85684011741682, 255.06481790606654], [14...</td>\n",
       "      <td>[[220.72471213307247, 333.45207123287673], [23...</td>\n",
       "    </tr>\n",
       "    <tr>\n",
       "      <th>2</th>\n",
       "      <td>AFW_2.jpg</td>\n",
       "      <td>55.619767</td>\n",
       "      <td>-29.203772</td>\n",
       "      <td>-17.430045</td>\n",
       "      <td>[[139.44759526239068, 260.0076752186589], [143...</td>\n",
       "      <td>[[197.96775998542276, 339.0582266763849], [201...</td>\n",
       "    </tr>\n",
       "    <tr>\n",
       "      <th>3</th>\n",
       "      <td>AFW_3.jpg</td>\n",
       "      <td>-15.629833</td>\n",
       "      <td>-1.648596</td>\n",
       "      <td>-9.227935</td>\n",
       "      <td>[[144.95079510489506, 262.9470791958042], [152...</td>\n",
       "      <td>[[202.25719213286717, 322.1812557692308], [214...</td>\n",
       "    </tr>\n",
       "    <tr>\n",
       "      <th>4</th>\n",
       "      <td>AFW_4.jpg</td>\n",
       "      <td>-17.694836</td>\n",
       "      <td>-9.471268</td>\n",
       "      <td>13.162210</td>\n",
       "      <td>[[144.33402915921286, 234.00445250447237], [14...</td>\n",
       "      <td>[[181.02770617173516, 314.78607531305914], [19...</td>\n",
       "    </tr>\n",
       "  </tbody>\n",
       "</table>\n",
       "</div>"
      ],
      "text/plain": [
       "        name        yaw      pitch       roll  \\\n",
       "0  AFW_0.jpg  52.627840  -1.899845   7.454445   \n",
       "1  AFW_1.jpg -17.416299 -16.421279 -12.825909   \n",
       "2  AFW_2.jpg  55.619767 -29.203772 -17.430045   \n",
       "3  AFW_3.jpg -15.629833  -1.648596  -9.227935   \n",
       "4  AFW_4.jpg -17.694836  -9.471268  13.162210   \n",
       "\n",
       "                                       all_landmarks  \\\n",
       "0  [[153.56659331983806, 244.43923572874507], [14...   \n",
       "1  [[136.85684011741682, 255.06481790606654], [14...   \n",
       "2  [[139.44759526239068, 260.0076752186589], [143...   \n",
       "3  [[144.95079510489506, 262.9470791958042], [152...   \n",
       "4  [[144.33402915921286, 234.00445250447237], [14...   \n",
       "\n",
       "                                     mouth_landmarks  \n",
       "0  [[166.29675263157893, 326.1395450404858], [172...  \n",
       "1  [[220.72471213307247, 333.45207123287673], [23...  \n",
       "2  [[197.96775998542276, 339.0582266763849], [201...  \n",
       "3  [[202.25719213286717, 322.1812557692308], [214...  \n",
       "4  [[181.02770617173516, 314.78607531305914], [19...  "
      ]
     },
     "execution_count": 5,
     "metadata": {},
     "output_type": "execute_result"
    }
   ],
   "source": [
    "df.head()"
   ]
  },
  {
   "cell_type": "code",
   "execution_count": 6,
   "metadata": {},
   "outputs": [],
   "source": [
    "df.to_csv(\"data/ypr_df.csv\", sep=\";\", index=False)"
   ]
  },
  {
   "cell_type": "code",
   "execution_count": 7,
   "metadata": {},
   "outputs": [
    {
     "data": {
      "text/plain": [
       "(68, 2)"
      ]
     },
     "execution_count": 7,
     "metadata": {},
     "output_type": "execute_result"
    }
   ],
   "source": [
    "mat = sio.loadmat(\"data/300W_LP/landmarks/AFW/AFW_1051618982_1_0_pts.mat\")\n",
    "mat[\"pts_2d\"].shape"
   ]
  },
  {
   "cell_type": "code",
   "execution_count": 8,
   "metadata": {},
   "outputs": [
    {
     "data": {
      "text/plain": [
       "(68, 2)"
      ]
     },
     "execution_count": 8,
     "metadata": {},
     "output_type": "execute_result"
    }
   ],
   "source": [
    "mat = sio.loadmat(\"data/300W_LP/landmarks/HELEN/HELEN_100032540_1_0_pts.mat\")\n",
    "mat[\"pts_2d\"].shape"
   ]
  },
  {
   "cell_type": "code",
   "execution_count": null,
   "metadata": {},
   "outputs": [],
   "source": []
  }
 ],
 "metadata": {
  "kernelspec": {
   "display_name": "Python 3.9.12 ('torch')",
   "language": "python",
   "name": "python3"
  },
  "language_info": {
   "codemirror_mode": {
    "name": "ipython",
    "version": 3
   },
   "file_extension": ".py",
   "mimetype": "text/x-python",
   "name": "python",
   "nbconvert_exporter": "python",
   "pygments_lexer": "ipython3",
   "version": "3.9.12"
  },
  "orig_nbformat": 4,
  "vscode": {
   "interpreter": {
    "hash": "6672153fbde59098443e03ff7ad27e31f7519f9fb67a92e5a6b2d0e0b15e40cd"
   }
  }
 },
 "nbformat": 4,
 "nbformat_minor": 2
}

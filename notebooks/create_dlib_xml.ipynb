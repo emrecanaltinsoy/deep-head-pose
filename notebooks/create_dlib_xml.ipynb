{
 "cells": [
  {
   "cell_type": "code",
   "execution_count": 1,
   "metadata": {},
   "outputs": [],
   "source": [
    "import pandas as pd\n",
    "from ast import literal_eval\n",
    "import numpy as np\n",
    "import cv2\n",
    "import json\n",
    "from tqdm import tqdm\n",
    "\n",
    "from xml.dom import minidom"
   ]
  },
  {
   "cell_type": "code",
   "execution_count": 2,
   "metadata": {},
   "outputs": [
    {
     "data": {
      "text/plain": [
       "<DOM Element: dataset at 0x125e143a0>"
      ]
     },
     "execution_count": 2,
     "metadata": {},
     "output_type": "execute_result"
    }
   ],
   "source": [
    "root = minidom.Document()\n",
    "\n",
    "images = root.createElement('images')\n",
    "dataset = root.createElement('dataset')\n",
    "root.appendChild(dataset)"
   ]
  },
  {
   "cell_type": "code",
   "execution_count": 3,
   "metadata": {},
   "outputs": [],
   "source": [
    "df = pd.read_csv(\"data/ypr_df.csv\", sep=\";\")"
   ]
  },
  {
   "cell_type": "code",
   "execution_count": 4,
   "metadata": {},
   "outputs": [],
   "source": [
    "df[\"mouth_landmarks\"] = df.mouth_landmarks.apply(lambda x: literal_eval(x))"
   ]
  },
  {
   "cell_type": "code",
   "execution_count": 5,
   "metadata": {},
   "outputs": [
    {
     "name": "stderr",
     "output_type": "stream",
     "text": [
      "7674it [00:14, 533.45it/s]\n"
     ]
    },
    {
     "data": {
      "text/plain": [
       "<DOM Element: images at 0x125e14310>"
      ]
     },
     "execution_count": 5,
     "metadata": {},
     "output_type": "execute_result"
    }
   ],
   "source": [
    "for row in tqdm(df.itertuples()):\n",
    "    img = cv2.imread(f\"data/cropped_images/{row.name}\")\n",
    "    img_height, img_width = img.shape[:2]\n",
    "    mouth_landmarks = np.array(row.mouth_landmarks).astype(np.uint32)\n",
    "    left, top = mouth_landmarks.min(axis=0)-20\n",
    "    right, bottom = mouth_landmarks.max(axis=0)+20\n",
    "    mouth_width, mouth_height = right-left, bottom-top\n",
    "\n",
    "    image = root.createElement('image')\n",
    "    image.setAttribute('file', row.name)\n",
    "    image.setAttribute('width', f'{img_width}')\n",
    "    image.setAttribute('height', f'{img_height}')\n",
    "    box = root.createElement('box')\n",
    "    box.setAttribute('top', f'{top}')\n",
    "    box.setAttribute('left', f'{left}')\n",
    "    box.setAttribute('width', f'{mouth_width}')\n",
    "    box.setAttribute('height', f'{mouth_height}')\n",
    "    for landmark_idx, landmark_coords in enumerate(row.mouth_landmarks):\n",
    "        part = root.createElement('part')\n",
    "        part_name = f\"{landmark_idx}\" if landmark_idx>=10 else f\"0{landmark_idx}\"\n",
    "        part.setAttribute('name', part_name)\n",
    "        part.setAttribute('x', f'{mouth_landmarks[landmark_idx][0]}')\n",
    "        part.setAttribute('y', f'{mouth_landmarks[landmark_idx][1]}')\n",
    "        box.appendChild(part)\n",
    "    image.appendChild(box)\n",
    "    images.appendChild(image)\n",
    "\n",
    "    # break\n",
    "\n",
    "dataset.appendChild(images)"
   ]
  },
  {
   "cell_type": "code",
   "execution_count": 6,
   "metadata": {},
   "outputs": [],
   "source": [
    "xml_str = root.toprettyxml()\n",
    "\n",
    "with open(\"training_with_mouth_landmarks.xml\", \"w\") as f:\n",
    "    f.write(xml_str)"
   ]
  },
  {
   "cell_type": "code",
   "execution_count": 47,
   "metadata": {},
   "outputs": [
    {
     "data": {
      "text/plain": [
       "(146, 211, 137, 242, 105, 65)"
      ]
     },
     "execution_count": 47,
     "metadata": {},
     "output_type": "execute_result"
    }
   ],
   "source": [
    "top, bottom, left, right, mouth_width, mouth_height"
   ]
  },
  {
   "cell_type": "code",
   "execution_count": 34,
   "metadata": {},
   "outputs": [],
   "source": [
    "top, bottom = np.array(df.mouth_landmarks.values[0])[..., 1].min()-20, np.array(df.mouth_landmarks.values[0])[..., 1].max()+20\n",
    "left, right = np.array(df.mouth_landmarks.values[0])[..., 0].min()-20, np.array(df.mouth_landmarks.values[0])[..., 0].max()+20"
   ]
  },
  {
   "cell_type": "code",
   "execution_count": 35,
   "metadata": {},
   "outputs": [
    {
     "data": {
      "text/plain": [
       "(146.4500911764706, 211.17877794117652, 137.85751617647054, 242.5200161764705)"
      ]
     },
     "execution_count": 35,
     "metadata": {},
     "output_type": "execute_result"
    }
   ],
   "source": [
    "top, bottom, left, right"
   ]
  },
  {
   "cell_type": "code",
   "execution_count": 38,
   "metadata": {},
   "outputs": [],
   "source": [
    "mouth_landmarks = np.array(df.mouth_landmarks.values[0]).astype(np.uint32)\n",
    "left, top = mouth_landmarks.min(axis=0)-20\n",
    "right, bottom = mouth_landmarks.max(axis=0)+20\n",
    "width, height = right-left, bottom-top"
   ]
  },
  {
   "cell_type": "code",
   "execution_count": 39,
   "metadata": {},
   "outputs": [
    {
     "data": {
      "text/plain": [
       "(146, 211, 137, 242, 105, 65)"
      ]
     },
     "execution_count": 39,
     "metadata": {},
     "output_type": "execute_result"
    }
   ],
   "source": [
    "top, bottom, left, right, width, height"
   ]
  },
  {
   "cell_type": "code",
   "execution_count": null,
   "metadata": {},
   "outputs": [],
   "source": []
  }
 ],
 "metadata": {
  "kernelspec": {
   "display_name": "Python 3.9.12 ('torch')",
   "language": "python",
   "name": "python3"
  },
  "language_info": {
   "codemirror_mode": {
    "name": "ipython",
    "version": 3
   },
   "file_extension": ".py",
   "mimetype": "text/x-python",
   "name": "python",
   "nbconvert_exporter": "python",
   "pygments_lexer": "ipython3",
   "version": "3.9.12"
  },
  "orig_nbformat": 4,
  "vscode": {
   "interpreter": {
    "hash": "6672153fbde59098443e03ff7ad27e31f7519f9fb67a92e5a6b2d0e0b15e40cd"
   }
  }
 },
 "nbformat": 4,
 "nbformat_minor": 2
}
